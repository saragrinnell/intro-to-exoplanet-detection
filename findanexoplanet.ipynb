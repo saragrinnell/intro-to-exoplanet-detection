{
 "cells": [
  {
   "cell_type": "code",
   "execution_count": null,
   "id": "4b11566b-50c9-4101-9db4-27e673be7ecd",
   "metadata": {
    "scrolled": true
   },
   "outputs": [],
   "source": [
    "from lightkurve import TessTargetPixelFile\n",
    "tpf_path = (r) #select tp file from MAST Archive, copy as path and input here after r\n",
    "tpf = TessTargetPixelFile(tpf_path)\n",
    "tpf.plot()"
   ]
  },
  {
   "cell_type": "code",
   "execution_count": null,
   "id": "3b7e3f9a-d049-41e2-972a-53ab8e81ffec",
   "metadata": {},
   "outputs": [],
   "source": [
    "lc = tpf.to_lightcurve()\n",
    "lc.scatter();\n",
    "import matplotlib.pyplot as plt \n",
    "plt.show()"
   ]
  },
  {
   "cell_type": "code",
   "execution_count": null,
   "id": "ac9e96e3-6ba3-4b83-9043-bc13049d8f71",
   "metadata": {},
   "outputs": [],
   "source": []
  }
 ],
 "metadata": {
  "kernelspec": {
   "display_name": "Python 3 (ipykernel)",
   "language": "python",
   "name": "python3"
  },
  "language_info": {
   "codemirror_mode": {
    "name": "ipython",
    "version": 3
   },
   "file_extension": ".py",
   "mimetype": "text/x-python",
   "name": "python",
   "nbconvert_exporter": "python",
   "pygments_lexer": "ipython3",
   "version": "3.11.5"
  }
 },
 "nbformat": 4,
 "nbformat_minor": 5
}
